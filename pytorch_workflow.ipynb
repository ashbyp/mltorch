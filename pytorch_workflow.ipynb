{
  "nbformat": 4,
  "nbformat_minor": 0,
  "metadata": {
    "colab": {
      "name": "pytorch_workflow.ipynb",
      "provenance": [],
      "collapsed_sections": [
        "iG5NlpSodVR1",
        "rx3Fx93tcqSr",
        "Q050KkNdvVVs",
        "Jz_hH63qAqFW",
        "5YBTJENNP-3Z"
      ],
      "authorship_tag": "ABX9TyNi+pALcOhp7c+wnGE+ajab",
      "include_colab_link": true
    },
    "kernelspec": {
      "name": "python3",
      "display_name": "Python 3"
    },
    "language_info": {
      "name": "python"
    }
  },
  "cells": [
    {
      "cell_type": "markdown",
      "metadata": {
        "id": "view-in-github",
        "colab_type": "text"
      },
      "source": [
        "<a href=\"https://colab.research.google.com/github/ashbyp/mltorch/blob/master/pytorch_workflow.ipynb\" target=\"_parent\"><img src=\"https://colab.research.google.com/assets/colab-badge.svg\" alt=\"Open In Colab\"/></a>"
      ]
    },
    {
      "cell_type": "markdown",
      "source": [
        "## Intro"
      ],
      "metadata": {
        "id": "iG5NlpSodVR1"
      }
    },
    {
      "cell_type": "code",
      "execution_count": 266,
      "metadata": {
        "colab": {
          "base_uri": "https://localhost:8080/"
        },
        "id": "nfTQfXr-Zti6",
        "outputId": "e92dd0fb-897c-42f7-abac-e75bc7383272"
      },
      "outputs": [
        {
          "output_type": "stream",
          "name": "stdout",
          "text": [
            "Python:3.7.13 (default, Apr 24 2022, 01:04:09) \n",
            "[GCC 7.5.0]\n",
            "Torch: 1.12.0+cu113\n"
          ]
        }
      ],
      "source": [
        "import torch\n",
        "import sys\n",
        "from torch import nn\n",
        "import matplotlib.pyplot as plt\n",
        "\n",
        "print(f'Python:{sys.version}')\n",
        "print(f'Torch: {torch.__version__}')\n"
      ]
    },
    {
      "cell_type": "markdown",
      "source": [
        "## Data Loading"
      ],
      "metadata": {
        "id": "rx3Fx93tcqSr"
      }
    },
    {
      "cell_type": "code",
      "source": [
        "weight = 0.7\n",
        "bias = 0.3\n",
        "\n",
        "start = 0\n",
        "end = 1\n",
        "step = 0.02\n",
        "X = torch.arange(start, end, step).unsqueeze(dim=1)\n",
        "y = weight * X + bias\n",
        "print(X[:10,:])\n",
        "print(f'X Shape: {X.shape}, Dims: {X.ndim} Len: {len(X)}')\n",
        "print(y[:10,:])\n",
        "print(f'y Shape: {y.shape}, Dims: {y.ndim} Len: {len(y)}')"
      ],
      "metadata": {
        "id": "NxI4qnuhbn5P",
        "colab": {
          "base_uri": "https://localhost:8080/"
        },
        "outputId": "2b9362c5-374f-406e-e383-5777b116b1d3"
      },
      "execution_count": 267,
      "outputs": [
        {
          "output_type": "stream",
          "name": "stdout",
          "text": [
            "tensor([[0.0000],\n",
            "        [0.0200],\n",
            "        [0.0400],\n",
            "        [0.0600],\n",
            "        [0.0800],\n",
            "        [0.1000],\n",
            "        [0.1200],\n",
            "        [0.1400],\n",
            "        [0.1600],\n",
            "        [0.1800]])\n",
            "X Shape: torch.Size([50, 1]), Dims: 2 Len: 50\n",
            "tensor([[0.3000],\n",
            "        [0.3140],\n",
            "        [0.3280],\n",
            "        [0.3420],\n",
            "        [0.3560],\n",
            "        [0.3700],\n",
            "        [0.3840],\n",
            "        [0.3980],\n",
            "        [0.4120],\n",
            "        [0.4260]])\n",
            "y Shape: torch.Size([50, 1]), Dims: 2 Len: 50\n"
          ]
        }
      ]
    },
    {
      "cell_type": "code",
      "source": [
        "plt.scatter(X, y)\n",
        "plt.show()"
      ],
      "metadata": {
        "colab": {
          "base_uri": "https://localhost:8080/",
          "height": 0
        },
        "id": "FTgUFEeWtq8w",
        "outputId": "6a63d57d-8b7b-46bb-9cec-c5822ccb96d9"
      },
      "execution_count": 268,
      "outputs": [
        {
          "output_type": "display_data",
          "data": {
            "text/plain": [
              "<Figure size 432x288 with 1 Axes>"
            ],
            "image/png": "[encoded data removed]"
          },
          "metadata": {
            "needs_background": "light"
          }
        }
      ]
    },
    {
      "cell_type": "markdown",
      "source": [
        "## Splitting Data"
      ],
      "metadata": {
        "id": "Q050KkNdvVVs"
      }
    },
    {
      "cell_type": "code",
      "source": [
        "train_split = int(0.8 * len(X))\n",
        "X_train, y_train = X[:train_split], y[:train_split]\n",
        "X_test, y_test = X[train_split:], y[train_split:]\n",
        "print('X: ', len(X_train), len(X_test))\n",
        "print('y: ', len(y_train), len(y_test))\n"
      ],
      "metadata": {
        "colab": {
          "base_uri": "https://localhost:8080/"
        },
        "id": "DVfaNNZBt1Ri",
        "outputId": "10f6aa62-21c4-478e-9a75-500db24cf565"
      },
      "execution_count": 269,
      "outputs": [
        {
          "output_type": "stream",
          "name": "stdout",
          "text": [
            "X:  40 10\n",
            "y:  40 10\n"
          ]
        }
      ]
    },
    {
      "cell_type": "code",
      "source": [
        "from numpy.ma.core import nonzero\n",
        "\n",
        "def plot_predictions(train_data=X_train, train_labels=y_train, test_data=X_test, \n",
        "                     test_labels=y_test, predictions=None):\n",
        "  plt.figure(figsize=(10, 7))\n",
        "  plt.scatter(train_data, train_labels, c='b', s=4, label='Training data')\n",
        "  plt.scatter(test_data, test_labels, c='g', s=4, label='Testing data')\n",
        "  if predictions is not None:\n",
        "     plt.scatter(test_data, predictions, c=\"r\", s=4, label=\"Predictions\")\n",
        "  plt.legend(prop={'size': 14})\n",
        "  plt.show()\n",
        "\n",
        "\n",
        "plot_predictions()\n",
        "\n"
      ],
      "metadata": {
        "colab": {
          "base_uri": "https://localhost:8080/",
          "height": 0
        },
        "id": "OtPtY2vlwBLt",
        "outputId": "2c3f31df-b415-42e3-9d6f-6b2a73f540b9"
      },
      "execution_count": 270,
      "outputs": [
        {
          "output_type": "display_data",
          "data": {
            "text/plain": [
              "<Figure size 720x504 with 1 Axes>"
            ],
            "image/png": "[encoded data removed]"
          },
          "metadata": {
            "needs_background": "light"
          }
        }
      ]
    },
    {
      "cell_type": "markdown",
      "source": [
        "## Building a model"
      ],
      "metadata": {
        "id": "Jz_hH63qAqFW"
      }
    },
    {
      "cell_type": "code",
      "source": [
        "class LinearRegressionModel(nn.Module): # <- almost everything in PyTorch is a nn.Module (think of this as neural network lego blocks)\n",
        "    def __init__(self):\n",
        "        super().__init__() \n",
        "        self.weights = nn.Parameter(torch.randn(1, # <- start with random weights (this will get adjusted as the model learns)\n",
        "            requires_grad=True, # <- can we update this value with gradient descent?\n",
        "            dtype=torch.float # <- PyTorch loves float32 by default\n",
        "        ))\n",
        "\n",
        "        self.bias = nn.Parameter(torch.randn(1, # <- start with random bias (this will get adjusted as the model learns)\n",
        "            requires_grad=True, # <- can we update this value with gradient descent?\n",
        "            dtype=torch.float # <- PyTorch loves float32 by default\n",
        "        ))\n",
        "\n",
        "    # Forward defines the computation in the model\n",
        "    def forward(self, x: torch.Tensor) -> torch.Tensor: # <- \"x\" is the input data (e.g. training/testing features)\n",
        "        return self.weights * x + self.bias # <- this is the linear regression formula (y = m*x + b)\n"
      ],
      "metadata": {
        "id": "ODBL-6s-9DTO"
      },
      "execution_count": 271,
      "outputs": []
    },
    {
      "cell_type": "code",
      "source": [
        "torch.manual_seed(42)\n",
        "model_0 = LinearRegressionModel()\n",
        "print(list(model_0.parameters()))"
      ],
      "metadata": {
        "id": "QxsNjSYEFAlx",
        "colab": {
          "base_uri": "https://localhost:8080/"
        },
        "outputId": "d3956cc4-a41d-4306-d65d-20a3aafd9f83"
      },
      "execution_count": 272,
      "outputs": [
        {
          "output_type": "stream",
          "name": "stdout",
          "text": [
            "[Parameter containing:\n",
            "tensor([0.3367], requires_grad=True), Parameter containing:\n",
            "tensor([0.1288], requires_grad=True)]\n"
          ]
        }
      ]
    },
    {
      "cell_type": "code",
      "source": [
        "X_test"
      ],
      "metadata": {
        "colab": {
          "base_uri": "https://localhost:8080/"
        },
        "id": "MBM4izFsshVK",
        "outputId": "5c6f9f8b-fd95-4f83-a5bf-8aac37fcc7a3"
      },
      "execution_count": 273,
      "outputs": [
        {
          "output_type": "execute_result",
          "data": {
            "text/plain": [
              "tensor([[0.8000],\n",
              "        [0.8200],\n",
              "        [0.8400],\n",
              "        [0.8600],\n",
              "        [0.8800],\n",
              "        [0.9000],\n",
              "        [0.9200],\n",
              "        [0.9400],\n",
              "        [0.9600],\n",
              "        [0.9800]])"
            ]
          },
          "metadata": {},
          "execution_count": 273
        }
      ]
    },
    {
      "cell_type": "code",
      "source": [
        "with torch.inference_mode(): \n",
        "    y_preds = model_0(X_test)\n",
        "\n",
        "y_preds\n",
        "\n",
        "plot_predictions(predictions=y_preds)\n"
      ],
      "metadata": {
        "colab": {
          "base_uri": "https://localhost:8080/",
          "height": 0
        },
        "id": "ZZMH7GgwpPuc",
        "outputId": "3ce26292-4c64-4892-af75-6b821898cd67"
      },
      "execution_count": 274,
      "outputs": [
        {
          "output_type": "display_data",
          "data": {
            "text/plain": [
              "<Figure size 720x504 with 1 Axes>"
            ],
            "image/png": "[encoded data removed]"
          },
          "metadata": {
            "needs_background": "light"
          }
        }
      ]
    },
    {
      "cell_type": "markdown",
      "source": [
        "## Loss function and Optimizer"
      ],
      "metadata": {
        "id": "-K_SqRuM4j84"
      }
    },
    {
      "cell_type": "code",
      "source": [
        "# Measures the model error in prediction, in this case the mean of the abs difference between predicted and actual\n",
        "loss_fn = nn.L1Loss()\n",
        "loss_fn"
      ],
      "metadata": {
        "id": "S8zgq5VerS6d",
        "colab": {
          "base_uri": "https://localhost:8080/"
        },
        "outputId": "8c3e980d-a446-4af6-ec11-9dff4d1148da"
      },
      "execution_count": 275,
      "outputs": [
        {
          "output_type": "execute_result",
          "data": {
            "text/plain": [
              "L1Loss()"
            ]
          },
          "metadata": {},
          "execution_count": 275
        }
      ]
    },
    {
      "cell_type": "code",
      "source": [
        "# Adjusts paramters to minumize the loss function\n",
        "optimizer = torch.optim.SGD(params=model_0.parameters(), lr=0.01)\n",
        "optimizer"
      ],
      "metadata": {
        "colab": {
          "base_uri": "https://localhost:8080/"
        },
        "id": "6EC1Aywh5T33",
        "outputId": "0900d388-08ba-40d8-bb5e-cbba2ff6421e"
      },
      "execution_count": 276,
      "outputs": [
        {
          "output_type": "execute_result",
          "data": {
            "text/plain": [
              "SGD (\n",
              "Parameter Group 0\n",
              "    dampening: 0\n",
              "    foreach: None\n",
              "    lr: 0.01\n",
              "    maximize: False\n",
              "    momentum: 0\n",
              "    nesterov: False\n",
              "    weight_decay: 0\n",
              ")"
            ]
          },
          "metadata": {},
          "execution_count": 276
        }
      ]
    },
    {
      "cell_type": "markdown",
      "source": [
        "##Training/testing Loop"
      ],
      "metadata": {
        "id": "Dx_cB2PP7qtZ"
      }
    },
    {
      "cell_type": "code",
      "source": [
        "# epoch is one loop through the data\n",
        "epochs = 200\n",
        "\n",
        "# Tracking\n",
        "epoch_counts = []\n",
        "loss_values = []\n",
        "test_loss_values = []\n",
        "\n",
        "for epoch in range(epochs):\n",
        "  #training\n",
        "\n",
        "  model_0.train()\n",
        "  # forward pass\n",
        "  y_pred = model_0(X_train)\n",
        "  # calculate loss\n",
        "  loss = loss_fn(y_pred, y_train)\n",
        "  # optimzier zero grad\n",
        "  optimizer.zero_grad()\n",
        "  # backward propagation\n",
        "  loss.backward()\n",
        "  # step the optimizer (grad descent)\n",
        "  optimizer.step()\n",
        "\n",
        "  #testing\n",
        "  model_0.eval()\n",
        "  with torch.inference_mode():\n",
        "    test_pred = model_0(X_test)\n",
        "    test_loss = loss_fn(test_pred, y_test)\n",
        "\n",
        "  if epoch % 10 == 0:\n",
        "    print(f'Epoch: {epoch} Loss: {loss} Test loss: {test_loss}')\n",
        "\n",
        "    epoch_counts.append(epoch)\n",
        "    loss_values.append(loss)\n",
        "    test_loss_values.append(test_loss)\n"
      ],
      "metadata": {
        "colab": {
          "base_uri": "https://localhost:8080/"
        },
        "id": "PtSVZF6L6etg",
        "outputId": "4dc1062c-09a5-45be-f2c2-18f667644339"
      },
      "execution_count": 277,
      "outputs": [
        {
          "output_type": "stream",
          "name": "stdout",
          "text": [
            "Epoch: 0 Loss: 0.31288138031959534 Test loss: 0.48106518387794495\n",
            "Epoch: 10 Loss: 0.1976713240146637 Test loss: 0.3463551998138428\n",
            "Epoch: 20 Loss: 0.08908725529909134 Test loss: 0.21729660034179688\n",
            "Epoch: 30 Loss: 0.053148526698350906 Test loss: 0.14464017748832703\n",
            "Epoch: 40 Loss: 0.04543796554207802 Test loss: 0.11360953003168106\n",
            "Epoch: 50 Loss: 0.04167863354086876 Test loss: 0.09919948130846024\n",
            "Epoch: 60 Loss: 0.03818932920694351 Test loss: 0.08886633068323135\n",
            "Epoch: 70 Loss: 0.03476089984178543 Test loss: 0.0805937647819519\n",
            "Epoch: 80 Loss: 0.03132382780313492 Test loss: 0.07232122868299484\n",
            "Epoch: 90 Loss: 0.02788739837706089 Test loss: 0.06473556160926819\n",
            "Epoch: 100 Loss: 0.024458957836031914 Test loss: 0.05646304413676262\n",
            "Epoch: 110 Loss: 0.021020207554101944 Test loss: 0.04819049686193466\n",
            "Epoch: 120 Loss: 0.01758546568453312 Test loss: 0.04060482233762741\n",
            "Epoch: 130 Loss: 0.014155393466353416 Test loss: 0.03233227878808975\n",
            "Epoch: 140 Loss: 0.010716589167714119 Test loss: 0.024059748277068138\n",
            "Epoch: 150 Loss: 0.0072835334576666355 Test loss: 0.016474086791276932\n",
            "Epoch: 160 Loss: 0.0038517764769494534 Test loss: 0.008201557211577892\n",
            "Epoch: 170 Loss: 0.008932482451200485 Test loss: 0.005023092031478882\n",
            "Epoch: 180 Loss: 0.008932482451200485 Test loss: 0.005023092031478882\n",
            "Epoch: 190 Loss: 0.008932482451200485 Test loss: 0.005023092031478882\n"
          ]
        }
      ]
    },
    {
      "cell_type": "code",
      "source": [
        "print(model_0.state_dict())\n",
        "\n",
        "with torch.inference_mode():\n",
        "  y_preds_new = model_0(X_test)\n",
        "plot_predictions(predictions=y_preds_new)\n",
        "\n",
        "\n",
        "\n"
      ],
      "metadata": {
        "colab": {
          "base_uri": "https://localhost:8080/",
          "height": 445
        },
        "id": "SqStldjd-nMT",
        "outputId": "c9c812fa-d3cb-4c69-88d3-fbedbb9cbb6a"
      },
      "execution_count": 278,
      "outputs": [
        {
          "output_type": "stream",
          "name": "stdout",
          "text": [
            "OrderedDict([('weights', tensor([0.6990])), ('bias', tensor([0.3093]))])\n"
          ]
        },
        {
          "output_type": "display_data",
          "data": {
            "text/plain": [
              "<Figure size 720x504 with 1 Axes>"
            ],
            "image/png": "[encoded data removed]"
          },
          "metadata": {
            "needs_background": "light"
          }
        }
      ]
    },
    {
      "cell_type": "code",
      "source": [
        "with torch.inference_mode():\n",
        "  plt.figure(figsize=(7, 4))\n",
        "  plt.plot(epoch_counts, loss_values, c='b', label='Training loss')\n",
        "  plt.plot(epoch_counts, test_loss_values, c='g', label='Testing loss')\n",
        "  plt.legend(prop={'size': 14})\n",
        "  plt.xlabel('Epoch')\n",
        "  plt.ylabel('L1 Loss')\n",
        "\n",
        "  plt.show()"
      ],
      "metadata": {
        "colab": {
          "base_uri": "https://localhost:8080/",
          "height": 281
        },
        "id": "as5dsXC4D4X9",
        "outputId": "2628749b-cdfe-407c-911f-5de4628c233d"
      },
      "execution_count": 279,
      "outputs": [
        {
          "output_type": "display_data",
          "data": {
            "text/plain": [
              "<Figure size 504x288 with 1 Axes>"
            ],
            "image/png": "[encoded data removed]"
          },
          "metadata": {
            "needs_background": "light"
          }
        }
      ]
    },
    {
      "cell_type": "markdown",
      "source": [
        "##Saving a model"
      ],
      "metadata": {
        "id": "5YBTJENNP-3Z"
      }
    },
    {
      "cell_type": "code",
      "source": [
        "print(model_0.state_dict())"
      ],
      "metadata": {
        "colab": {
          "base_uri": "https://localhost:8080/"
        },
        "id": "0ZXS1gD-QB9U",
        "outputId": "98e739a4-07f4-414a-ca97-5752e2a22fc6"
      },
      "execution_count": 280,
      "outputs": [
        {
          "output_type": "stream",
          "name": "stdout",
          "text": [
            "OrderedDict([('weights', tensor([0.6990])), ('bias', tensor([0.3093]))])\n"
          ]
        }
      ]
    },
    {
      "cell_type": "code",
      "source": [
        "from pathlib import Path\n",
        "\n",
        "model_path = Path('models')\n",
        "model_path.mkdir(parents=True, exist_ok=True)\n",
        "model_name = '01_pytorchworkflow.pth'\n",
        "save_path = model_path / model_name\n",
        "torch.save(model_0.state_dict(), save_path)\n"
      ],
      "metadata": {
        "id": "hH7ZQMBqRb9q"
      },
      "execution_count": 281,
      "outputs": []
    },
    {
      "cell_type": "markdown",
      "source": [
        "##Loading a model"
      ],
      "metadata": {
        "id": "d5TLtC14T9f-"
      }
    },
    {
      "cell_type": "code",
      "source": [
        "loaded_model_0 = LinearRegressionModel()\n",
        "loaded_model_0.load_state_dict(torch.load(save_path))\n",
        "print(loaded_model_0.state_dict())\n",
        "with torch.inference_mode():\n",
        "  y_pred_loaded = loaded_model_0(X_test)\n",
        "plot_predictions(predictions=y_pred_loaded)"
      ],
      "metadata": {
        "colab": {
          "base_uri": "https://localhost:8080/",
          "height": 445
        },
        "id": "U-mOE8D-SW6E",
        "outputId": "e0ef97c8-cbea-4ede-e9e9-b1ffb34b45e1"
      },
      "execution_count": 282,
      "outputs": [
        {
          "output_type": "stream",
          "name": "stdout",
          "text": [
            "OrderedDict([('weights', tensor([0.6990])), ('bias', tensor([0.3093]))])\n"
          ]
        },
        {
          "output_type": "display_data",
          "data": {
            "text/plain": [
              "<Figure size 720x504 with 1 Axes>"
            ],
            "image/png": "[encoded data removed]"
          },
          "metadata": {
            "needs_background": "light"
          }
        }
      ]
    },
    {
      "cell_type": "markdown",
      "source": [
        "##Using Linear Layer"
      ],
      "metadata": {
        "id": "xvjTi8gNXqhG"
      }
    },
    {
      "cell_type": "code",
      "source": [
        "class LinearRegressionModelV2(nn.Module):\n",
        "  def __init__(self):\n",
        "    super().__init__()\n",
        "    self.linear_layer = nn.Linear(in_features=1, out_features=1)\n",
        "  \n",
        "  def forward(self, x):\n",
        "    return self.linear_layer(x)\n",
        "\n",
        "torch.manual_seed(42)\n",
        "model_1 = LinearRegressionModelV2()\n",
        "print(model_1.state_dict())\n",
        "\n",
        "loss_fn = nn.L1Loss()\n",
        "optimizer = torch.optim.SGD(params=model_1.parameters(), lr=0.01)\n",
        "\n",
        "# epoch is one loop through the data\n",
        "epochs = 200\n",
        "\n",
        "# Tracking\n",
        "epoch_counts = []\n",
        "loss_values = []\n",
        "test_loss_values = []\n",
        "\n",
        "for epoch in range(epochs):\n",
        "  #training\n",
        "\n",
        "  model_1.train()\n",
        "  # forward pass\n",
        "  y_pred = model_1(X_train)\n",
        "  # calculate loss\n",
        "  loss = loss_fn(y_pred, y_train)\n",
        "  # optimzier zero grad\n",
        "  optimizer.zero_grad()\n",
        "  # backward propagation\n",
        "  loss.backward()\n",
        "  # step the optimizer (grad descent)\n",
        "  optimizer.step()\n",
        "\n",
        "  #testing\n",
        "  model_1.eval()\n",
        "  with torch.inference_mode():\n",
        "    test_pred = model_1(X_test)\n",
        "    test_loss = loss_fn(test_pred, y_test)\n",
        "\n",
        "  if epoch % 10 == 0:\n",
        "    print(f'Epoch: {epoch} Loss: {loss} Test loss: {test_loss}')\n",
        "\n",
        "    epoch_counts.append(epoch)\n",
        "    loss_values.append(loss)\n",
        "    test_loss_values.append(test_loss)\n",
        "\n",
        "print(model_1.state_dict())\n",
        "\n",
        "with torch.inference_mode():\n",
        "  preds = model_1(X_test)\n",
        "\n",
        "plot_predictions(predictions=preds)\n",
        "\n",
        "model_name = '01_pytorchworkflow_1.pth'\n",
        "save_path = model_path / model_name\n",
        "torch.save(model_0.state_dict(), save_path)\n"
      ],
      "metadata": {
        "colab": {
          "base_uri": "https://localhost:8080/",
          "height": 810
        },
        "id": "RW7Y8PBFV53B",
        "outputId": "c6e7d9f9-6b19-474a-bd28-77caca373d39"
      },
      "execution_count": 286,
      "outputs": [
        {
          "output_type": "stream",
          "name": "stdout",
          "text": [
            "OrderedDict([('linear_layer.weight', tensor([[0.7645]])), ('linear_layer.bias', tensor([0.8300]))])\n",
            "Epoch: 0 Loss: 0.5551779866218567 Test loss: 0.5739762187004089\n",
            "Epoch: 10 Loss: 0.4399680495262146 Test loss: 0.4392663538455963\n",
            "Epoch: 20 Loss: 0.3247582018375397 Test loss: 0.30455657839775085\n",
            "Epoch: 30 Loss: 0.20954827964305878 Test loss: 0.16984674334526062\n",
            "Epoch: 40 Loss: 0.09433844685554504 Test loss: 0.03513689711689949\n",
            "Epoch: 50 Loss: 0.023886386305093765 Test loss: 0.04784906655550003\n",
            "Epoch: 60 Loss: 0.0199567973613739 Test loss: 0.04580312222242355\n",
            "Epoch: 70 Loss: 0.016517987474799156 Test loss: 0.0375305712223053\n",
            "Epoch: 80 Loss: 0.013089170679450035 Test loss: 0.029944902285933495\n",
            "Epoch: 90 Loss: 0.009653178043663502 Test loss: 0.02167237363755703\n",
            "Epoch: 100 Loss: 0.006215679459273815 Test loss: 0.014086711220443249\n",
            "Epoch: 110 Loss: 0.002787243574857712 Test loss: 0.005814164876937866\n",
            "Epoch: 120 Loss: 0.0012645035749301314 Test loss: 0.013801807537674904\n",
            "Epoch: 130 Loss: 0.0012645035749301314 Test loss: 0.013801807537674904\n",
            "Epoch: 140 Loss: 0.0012645035749301314 Test loss: 0.013801807537674904\n",
            "Epoch: 150 Loss: 0.0012645035749301314 Test loss: 0.013801807537674904\n",
            "Epoch: 160 Loss: 0.0012645035749301314 Test loss: 0.013801807537674904\n",
            "Epoch: 170 Loss: 0.0012645035749301314 Test loss: 0.013801807537674904\n",
            "Epoch: 180 Loss: 0.0012645035749301314 Test loss: 0.013801807537674904\n",
            "Epoch: 190 Loss: 0.0012645035749301314 Test loss: 0.013801807537674904\n",
            "OrderedDict([('linear_layer.weight', tensor([[0.6968]])), ('linear_layer.bias', tensor([0.3025]))])\n"
          ]
        },
        {
          "output_type": "display_data",
          "data": {
            "text/plain": [
              "<Figure size 720x504 with 1 Axes>"
            ],
            "image/png": "[encoded data removed]"
          },
          "metadata": {
            "needs_background": "light"
          }
        }
      ]
    },
    {
      "cell_type": "code",
      "source": [
        ""
      ],
      "metadata": {
        "id": "gmvNez9gYiSi"
      },
      "execution_count": 283,
      "outputs": []
    }
  ]
}